{
 "cells": [
  {
   "cell_type": "code",
   "execution_count": 10,
   "metadata": {
    "collapsed": true
   },
   "outputs": [],
   "source": [
    "import scrapy\n",
    "\n",
    "class CarScrapper(scrapy.Spider):\n",
    "    name = \"cars_spider\"\n",
    "    start_urls = ['https://www.cheki.com.ng/vehicles']\n",
    "    \n",
    "    def parse(self, response):\n",
    "#         Selects the css\n",
    "        CAR_SELECTOR = 'listing-unit'\n",
    "        for car in response.css(CAR_SELECTOR):\n",
    "            NAME_SELECTOR = 'listing-unit__title'\n",
    "            yield{\n",
    "                'name': car.css(NAME_SELECTOR).extract_first(),\n",
    "            }\n",
    "            "
   ]
  },
  {
   "cell_type": "code",
   "execution_count": 6,
   "metadata": {},
   "outputs": [
    {
     "data": {
      "text/plain": [
       "<module 'scrapy' from 'C:\\\\Users\\\\Ritchey\\\\Anaconda3\\\\lib\\\\site-packages\\\\scrapy\\\\__init__.py'>"
      ]
     },
     "execution_count": 6,
     "metadata": {},
     "output_type": "execute_result"
    }
   ],
   "source": []
  },
  {
   "cell_type": "code",
   "execution_count": null,
   "metadata": {
    "collapsed": true
   },
   "outputs": [],
   "source": []
  }
 ],
 "metadata": {
  "kernelspec": {
   "display_name": "Python 3",
   "language": "python",
   "name": "python3"
  },
  "language_info": {
   "codemirror_mode": {
    "name": "ipython",
    "version": 3
   },
   "file_extension": ".py",
   "mimetype": "text/x-python",
   "name": "python",
   "nbconvert_exporter": "python",
   "pygments_lexer": "ipython3",
   "version": "3.6.3"
  }
 },
 "nbformat": 4,
 "nbformat_minor": 2
}
